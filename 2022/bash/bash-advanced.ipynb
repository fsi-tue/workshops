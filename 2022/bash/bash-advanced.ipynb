{
 "cells": [
  {
   "cell_type": "markdown",
   "id": "bac43635",
   "metadata": {
    "slideshow": {
     "slide_type": "slide"
    }
   },
   "source": [
    "# Bash-Advanced\n",
    "## 2022-04-11\n",
    "## Marcus Ganske - Fachschaft Informatik"
   ]
  },
  {
   "cell_type": "markdown",
   "id": "762fa764",
   "metadata": {
    "slideshow": {
     "slide_type": "slide"
    }
   },
   "source": [
    "# Was wir machen"
   ]
  },
  {
   "cell_type": "markdown",
   "id": "8d325d08",
   "metadata": {
    "slideshow": {
     "slide_type": "fragment"
    }
   },
   "source": [
    "- Variablen\n",
    "- Conditionals\n",
    "- Schleifen\n",
    "- Bash-Skripting\n",
    "- bisschen anderen fancy shit"
   ]
  },
  {
   "cell_type": "markdown",
   "id": "8d92892e",
   "metadata": {
    "slideshow": {
     "slide_type": "fragment"
    }
   },
   "source": [
    "# Was ihr schon wissen solltet"
   ]
  },
  {
   "cell_type": "markdown",
   "id": "95f3a9b3",
   "metadata": {
    "slideshow": {
     "slide_type": "fragment"
    }
   },
   "source": [
    "- Navigation\n",
    "- Datei anlegen/löschen/umbenennen\n",
    "- Dateiinhalt ausgeben\n",
    "- Ein-/Ausgabeumlenkung\n",
    "- Suchen, Bytes zählen, sortieren und ausschneiden\n",
    "- Zugriffsrechte\n",
    "- Hilfe bekommen\n",
    "- Archive\n",
    "- Prozesse\n",
    "- inode\n",
    "- Aliasing\n",
    "- Quoting"
   ]
  },
  {
   "cell_type": "markdown",
   "id": "81500ea0",
   "metadata": {
    "slideshow": {
     "slide_type": "slide"
    }
   },
   "source": [
    "Also ich kann jetzt in der Bash-Wildnis überleben. Zeit, es sich gemütlich einzurichten"
   ]
  },
  {
   "cell_type": "markdown",
   "id": "8b18fb6b",
   "metadata": {
    "slideshow": {
     "slide_type": "subslide"
    }
   },
   "source": [
    "## Variablen"
   ]
  },
  {
   "cell_type": "markdown",
   "id": "73e84f3a",
   "metadata": {
    "slideshow": {
     "slide_type": "fragment"
    }
   },
   "source": [
    "`$ a=\"10\"`\n",
    "\n",
    "`$ x=\"foo\"`\n",
    "\n",
    "- wie überall, speichern einen Wert\n",
    "- typlos\n",
    "- deklarieren nicht notwendig, wird beim Wert zuweisen erstellt\n",
    "- **OBACHT** Variable lebt nur in der aktuellen Shell"
   ]
  },
  {
   "cell_type": "markdown",
   "id": "07e0513f",
   "metadata": {
    "slideshow": {
     "slide_type": "fragment"
    }
   },
   "source": [
    "Ausgabe mit `echo`, Zugriff auf eine Variable mit `$`\n",
    "\n",
    "`$ echo $x`"
   ]
  },
  {
   "cell_type": "markdown",
   "id": "f1c5dcf1",
   "metadata": {
    "slideshow": {
     "slide_type": "fragment"
    }
   },
   "source": [
    "***Systemvariablen*** sind in CAPSLOCK geschrieben.\n",
    "Beispiele:\n",
    "- `$HOME` - zeigt auf das Heimverzeichnis des aktuellen Benutzis\n",
    "- `$EDITOR` - Standardeditor; normalerweise vim oder emacs\n",
    "- `$PATH` - Pfadvariable zu den Binaries; normalerweise sowas wie `/usr/bin`, `/.local/bin`\n",
    "    - mehrere Pfade werden mit `:` getrennt, Bsp: `/usr/bin:/usr/local/bin`\n",
    "    \n",
    "***Positionsvariablen***\n",
    "- `$0, $1, $2, etc.` - werden von der Commandline an das Skript oder eine Funktion übergeben\n",
    "- `$#` - Anzahl der übergebenen Argumente\n",
    "- `$*` - Alle übergebenen Argumente als ein einziges Wort\n",
    "- `$@` - Alle übergebenen Argumente als einzelne Wörter\n",
    "\n"
   ]
  },
  {
   "cell_type": "markdown",
   "id": "1a4bcb7e",
   "metadata": {
    "slideshow": {
     "slide_type": "slide"
    }
   },
   "source": [
    "## Bash-Scripting"
   ]
  },
  {
   "cell_type": "markdown",
   "id": "9a2fff1d",
   "metadata": {
    "slideshow": {
     "slide_type": "subslide"
    }
   },
   "source": [
    "### Was ist ein Bash Script?"
   ]
  },
  {
   "cell_type": "markdown",
   "id": "25d14885",
   "metadata": {
    "slideshow": {
     "slide_type": "fragment"
    }
   },
   "source": [
    "- Eine Datei, die Bash Befehle enthält. Ein Skript wird zeilenweise gelesen und ausgeführt."
   ]
  },
  {
   "cell_type": "markdown",
   "id": "0626cb34",
   "metadata": {
    "slideshow": {
     "slide_type": "fragment"
    }
   },
   "source": [
    "- Ein Bash Script hat die Endung `.sh`\n",
    "- Ein Bash Script beginnt mit dem sog. \"Shebang\": `#!/bin/sh` oder `#!/bin/bash`"
   ]
  },
  {
   "cell_type": "markdown",
   "id": "01589e1b",
   "metadata": {
    "slideshow": {
     "slide_type": "fragment"
    }
   },
   "source": [
    "```\n",
    "#!/bin/bash\n",
    "echo \"Hello World!\"\n",
    "```"
   ]
  },
  {
   "cell_type": "markdown",
   "id": "96609db5",
   "metadata": {
    "slideshow": {
     "slide_type": "slide"
    }
   },
   "source": [
    "## Conditionals"
   ]
  },
  {
   "cell_type": "markdown",
   "id": "0039025f",
   "metadata": {
    "slideshow": {
     "slide_type": "fragment"
    }
   },
   "source": [
    "- **if** Statement\n",
    "    - verschachtelte if\n",
    "- Eingabe und Dateien vergleichen und testen\n",
    "- **if/then/else** Konstrukte\n",
    "    - **if/then/elif/else** Konstrukte\n",
    "- Positionsparameter benutzen und darauf testen\n",
    "- Boole'sche Ausdrücke\n",
    "- **case** Statement"
   ]
  },
  {
   "cell_type": "markdown",
   "id": "417713af",
   "metadata": {
    "slideshow": {
     "slide_type": "subslide"
    }
   },
   "source": [
    "### if Statement\n",
    "\n",
    "Wie überall, zum Entscheidungen treffen"
   ]
  },
  {
   "cell_type": "markdown",
   "id": "c25cfd3f",
   "metadata": {
    "slideshow": {
     "slide_type": "fragment"
    }
   },
   "source": [
    "`if TEST-COMMANDS; then CONSEQUENT-COMMANDS; fi`\n",
    "\n",
    "Liste von TEST-COMMANDS auf der nächsten Folie\n",
    "\n",
    "CONSEQUENT-COMMANDS kann jeder korrekte Unixbefehl sein, ein ausführbares Programm, ein Shellskript oder ein Shellbefehl. Deshalb muss in der Shell mit `;` getrennt werden.\n",
    "\n",
    "Beispiel: `if [ $a -eq 10 ]; then echo \"aye\"; fi` oder `if test $a -eq 10; then echo \"aye\"; fi`"
   ]
  },
  {
   "cell_type": "markdown",
   "id": "1a44b67e",
   "metadata": {
    "slideshow": {
     "slide_type": "subslide"
    }
   },
   "source": [
    "#### File Conditionals\n",
    "|Expression\t| Value | What does it do? |\n",
    "|   :---:   | :---: |      :---:       |\n",
    "|   `-b`\t|  file | If file exists and is a block special file.|\n",
    "|   `-c`\t|  file | If file exists and is a character special file.|\n",
    "|   `-d`\t| file\t| If file exists and is a directory.|\n",
    "|   `-e`\t| file\t| If file exists.|\n",
    "|   `-f`\t| file\t| If file exists and is a regular file.|\n",
    "|   `-g`\t| file\t| If file exists and its set-group-id bit is set.|\n",
    "|   `-h`\t| file\t| If file exists and is a symbolic link.|\n",
    "|   `-p`\t| file\t| If file exists and is a named pipe (FIFO).|\n",
    "|   `-r`\t| file\t| If file exists and is readable.|\n",
    "|   `-s`\t| file\t| If file exists and its size is greater than zero.|\n",
    "|   `-t`\t| fd\t| If file descriptor is open and refers to a terminal.|\n",
    "|   `-u`\t| file\t| If file exists and its set-user-id bit is set.|\n",
    "|   `-w`\t| file\t| If file exists and is writable.|\n",
    "|   `-x`\t| file\t| If file exists and is executable.|\n",
    "|   `-L`\t| file\t| If file exists and is a symbolic link.|\n",
    "|   `-S`\t| file\t| If file exists and is a socket.|\n",
    "\n",
    "#### Variable Conditionals\n",
    "|Expression\t| Value | What does it do? |\n",
    "|   :---:   | :---: |      :---:       |\n",
    "|   `-z`    |  var  | If the length of string is zero.|\n",
    "|   `-n`    |  var\t| If the length of string is non-zero.|\n",
    "\n",
    "#### Variable Comparisons\n",
    "| Expression\t|  What does it do? |\n",
    "|   :---:       |       :---:       |\n",
    "| `var = var2`  |\tEqual to.|\n",
    "| `var != var2`\t|   Not equal to.|\n",
    "| `var -eq var2`|\tEqual to (algebraically).|\n",
    "| `var -ne var2`|\tNot equal to (algebraically).|\n",
    "| `var -gt var2`|\tGreater than (algebraically).|\n",
    "| `var -ge var2`|\tGreater than or equal to (algebraically).|\n",
    "| `var -lt var2`|\tLess than (algebraically).|\n",
    "| `var -le var2`|\tLess than or equal to (algebraically).|"
   ]
  },
  {
   "cell_type": "markdown",
   "id": "7ac053a2",
   "metadata": {
    "slideshow": {
     "slide_type": "subslide"
    }
   },
   "source": [
    "### if/then/elif/else Konstrukte"
   ]
  },
  {
   "cell_type": "markdown",
   "id": "5264dd68",
   "metadata": {
    "slideshow": {
     "slide_type": "fragment"
    }
   },
   "source": [
    "```\n",
    "if TEST-COMMANDS;\n",
    "then CONSEQUENT-COMMANDS;\n",
    "elif MORE-TEST-COMMANDS; then\n",
    "MORE-CONSEQUENT-COMMANDS;\n",
    "else ALTERNATE-CONSEQUENT-COMMANDS;\n",
    "fi\n",
    "```"
   ]
  },
  {
   "cell_type": "markdown",
   "id": "c757723b",
   "metadata": {
    "slideshow": {
     "slide_type": "fragment"
    }
   },
   "source": [
    "```\n",
    "#!/bin/bash\n",
    "# This script will test if we're in a leap year or not.\n",
    "\n",
    "year=`date +%Y`\n",
    "\n",
    "if [ $[$year % 400] -eq \"0\" ]; then\n",
    "    echo \"This is a leap year.  February has 29 days.\"\n",
    "elif [ $[$year % 4] -eq 0 ]; then\n",
    "    if [ $[$year % 100] -ne 0 ]; then\n",
    "        echo \"This is a leap year, February has 29 days.\"\n",
    "    else\n",
    "        echo \"This is not a leap year.  February has 28 days.\"\n",
    "    fi\n",
    "else\n",
    "    echo \"This is not a leap year.  February has 28 days.\"\n",
    "fi\n",
    "```"
   ]
  },
  {
   "cell_type": "markdown",
   "id": "4bbc236a",
   "metadata": {
    "slideshow": {
     "slide_type": "subslide"
    }
   },
   "source": [
    "### Boole'sche Ausdrücke"
   ]
  },
  {
   "cell_type": "markdown",
   "id": "fbe97532",
   "metadata": {
    "slideshow": {
     "slide_type": "fragment"
    }
   },
   "source": [
    "|  Operators |\tWhat does it do? |\n",
    "|    :---:   |       :---:       |\n",
    "|    `!`     |  NOT  |\n",
    "|    `&&`    |  AND  |\n",
    "|    `\\|\\|`  |\tOR   |\n"
   ]
  },
  {
   "cell_type": "markdown",
   "id": "23ac679e",
   "metadata": {
    "slideshow": {
     "slide_type": "subslide"
    }
   },
   "source": [
    "### case Statement\n",
    "\n",
    "für mehr als zwei Auswahlmöglichkeiten"
   ]
  },
  {
   "cell_type": "markdown",
   "id": "c4eb91dd",
   "metadata": {
    "slideshow": {
     "slide_type": "fragment"
    }
   },
   "source": [
    "```\n",
    "case EXPRESSION in \n",
    "    CASE1) COMMAND-LIST;; \n",
    "    CASE2) COMMAND-LIST;; \n",
    "    ...\n",
    "    CASEN) COMMAND-LIST;;\n",
    "esac\n",
    "```"
   ]
  },
  {
   "cell_type": "markdown",
   "id": "aa3b15c8",
   "metadata": {
    "slideshow": {
     "slide_type": "subslide"
    }
   },
   "source": [
    "## Übung\n",
    "### Aufgabe 1\n",
    "\n",
    "Erstellt ein Skript, dem eine Dateinamen als Parameter übergeben werden kann. Falls die Datei existiert und lesbar ist, bietet das Skript eine Auswahl an Aktionen zur angegebenen Datei an. Im einzelnen soll es den Dateiinhalt, den Dateityp, die Dateieigenschaften oder die Dateigröße anzeigen können. Bei einer ungültigen Auswahl soll eine Fehlermeldung ausgegeben werden.\n",
    "\n",
    "Hinweis: Eingabe kriegt ihr mit `read <Variablenname>` hin"
   ]
  },
  {
   "cell_type": "markdown",
   "id": "0c5f4776",
   "metadata": {
    "slideshow": {
     "slide_type": "notes"
    }
   },
   "source": [
    "## Musterlösung\n",
    "### Aufgabe 1\n",
    "\n",
    "```\n",
    "#!/bin/bash\n",
    "\n",
    "if [ $# -lt \"1\" ]\n",
    "    then echo \"Keine Datei angegeben!\";\n",
    "    exit;\n",
    "elif [ $# -gt \"1\" ]\n",
    "    then echo \"mehr als eine Datei angegeben!\";\n",
    "    exit;\n",
    "fi\n",
    "\n",
    "if [[ ! -f \"$1\" && ! -r \"$1\" ]] # oder if [ ! -f \"$1\" ] && [ ! -r \"$1\" ]\n",
    "then echo \"Datei existiert nicht oder ist nicht lesbar!\";\n",
    "    exit;\n",
    "fi\n",
    "\n",
    "\n",
    "echo \"Die Datei $1 existiert und ist lesbar.\"\n",
    "echo \"1 um den Dateiinhalt anzuzeigen.\"\n",
    "echo \"2 um den Dateityp anzuzeigen.\"\n",
    "echo \"3 um die Dateieigenschaften anzuzeigen.\"\n",
    "echo \"4 um die Dateigröße anzuzeigen.\"\n",
    "echo -n \"Auswahl: \"\n",
    "read input\n",
    "case \"$input\" in\n",
    "    1* ) echo \"******* ANFANG\"; cat $1 ; echo -e \"\\nENDE *******\" ;;\n",
    "    2* ) file $1 ;;\n",
    "    3* ) stat $1 ;;\n",
    "    4* ) du -h $1 ;;\n",
    "    *  ) echo \"$input ist keine gültige Option\";;\n",
    "    esac\n",
    "```\n",
    "\n"
   ]
  },
  {
   "cell_type": "markdown",
   "id": "318eda0d",
   "metadata": {
    "slideshow": {
     "slide_type": "slide"
    }
   },
   "source": [
    "## Schleifen"
   ]
  },
  {
   "cell_type": "markdown",
   "id": "e69f45bc",
   "metadata": {
    "slideshow": {
     "slide_type": "fragment"
    }
   },
   "source": [
    "für sich wiederholende Aufgaben - wie immer"
   ]
  },
  {
   "cell_type": "markdown",
   "id": "57d8bded",
   "metadata": {
    "slideshow": {
     "slide_type": "fragment"
    }
   },
   "source": [
    "Es gibt drei Schleifen:\n",
    "- for\n",
    "- while\n",
    "- until"
   ]
  },
  {
   "cell_type": "markdown",
   "id": "3dfc9d2e",
   "metadata": {
    "slideshow": {
     "slide_type": "subslide"
    }
   },
   "source": [
    "### for-Schleife\n",
    "```\n",
    "for arg in [list]\n",
    "do\n",
    " command(s)...\n",
    "done\n",
    "```\n",
    "\n",
    "Beispiel: `for i in 1 2 3 4 5; do echo \"$i\"; done`"
   ]
  },
  {
   "cell_type": "markdown",
   "id": "c21825b4",
   "metadata": {
    "slideshow": {
     "slide_type": "subslide"
    }
   },
   "source": [
    "### while-Schleife\n",
    "```\n",
    "while [ condition ]\n",
    "do\n",
    " command(s)...\n",
    "done\n",
    "```\n",
    "\n",
    "Beispiel:\n",
    "```\n",
    "i = 1\n",
    "while [ \"$i\" -le \"10\" ]; do \n",
    "    echo \"$i\"; let \"i+=1\";\n",
    "done\n",
    "```"
   ]
  },
  {
   "cell_type": "markdown",
   "id": "02a57137",
   "metadata": {
    "slideshow": {
     "slide_type": "subslide"
    }
   },
   "source": [
    "### until-Schleife\n",
    "```\n",
    "until [ condition-is-true ]\n",
    "do\n",
    " command(s)...\n",
    "done\n",
    "```\n",
    "Beispiel:\n",
    "```\n",
    "i = 10\n",
    "until [ \"$i\" -eq \"0\" ]; do\n",
    "    echo \"$i\"; let \"i-=1\";\n",
    "done\n",
    "```"
   ]
  },
  {
   "cell_type": "markdown",
   "id": "7ef73323",
   "metadata": {
    "slideshow": {
     "slide_type": "subslide"
    }
   },
   "source": [
    "### break und continue\n"
   ]
  },
  {
   "cell_type": "markdown",
   "id": "5cc1a6a2",
   "metadata": {
    "slideshow": {
     "slide_type": "fragment"
    }
   },
   "source": [
    "- `break` bricht sofort aus der Schleife aus\n",
    "- `continue` macht direkt mit der nächten Iteration weiter"
   ]
  },
  {
   "cell_type": "markdown",
   "id": "5838b412",
   "metadata": {
    "slideshow": {
     "slide_type": "slide"
    }
   },
   "source": [
    "## Übung\n",
    "### Aufgabe 2\n",
    "Schreibt ein kleines Ratespiel, bei dem das Benutzi eine Zahl zwischen 0 und 10 erraten soll. Es hat hierfür unendlich viele Versuche. Das Skript soll es nach Fehlversuchen unterstützen, indem es eine Ausgabe mit „Geheime Zahl ist größer“ oder „Geheime Zahl ist kleiner“ macht. Wenn das Benutzi richtig getippt hat, wird ihm gratuliert und das Skript beendet sich.\n",
    "\n",
    "Hilfestellung: Eine Zufallszahl „zahl“ zwischen 0 und 10 kann folgendermaßen erzeugt werden: `zahl=$(expr $RANDOM % 11)`\n",
    "\n",
    "Zusatzaufgabe: Schreibt eine Variante mit begrenzt vielen Rateversuchen."
   ]
  },
  {
   "cell_type": "markdown",
   "id": "42b2b745",
   "metadata": {
    "slideshow": {
     "slide_type": "notes"
    }
   },
   "source": [
    "## Musterlösung\n",
    "### Aufgabe 2\n",
    "```\n",
    "#!/bin/bash\n",
    "\n",
    "zahl=$(expr $RANDOM % 11)\n",
    "gewonnen=0\n",
    "count=3\n",
    "\n",
    "until [ $gewonnen -eq 1 -o $count -eq 0 ]\n",
    "do\n",
    "    echo -n \"rate eine Zahl von 0 bis 10. Du hast noch $count Versuche: \"\n",
    "    read input\n",
    "    if [ $input -lt $zahl ]\n",
    "    then\n",
    "        echo \"Die Zahl ist größer als $input\"\n",
    "        let count-=1\n",
    "    elif [ $input -gt $zahl ]\n",
    "    then\n",
    "        echo \"Die Zahl ist kleiner als $input\"\n",
    "        let count-=1\n",
    "    else\n",
    "        echo \"gewonnen\"\n",
    "        gewonnen=1\n",
    "    fi\n",
    "done\n",
    "if [ $count -eq 0 ]\n",
    "then\n",
    "    echo \"verloren, keine Versuche mehr\"\n",
    "fi\n",
    "```"
   ]
  },
  {
   "cell_type": "markdown",
   "id": "87fb8b4a",
   "metadata": {
    "slideshow": {
     "slide_type": "subslide"
    }
   },
   "source": [
    "### Positionsparameter"
   ]
  },
  {
   "cell_type": "markdown",
   "id": "6811f348",
   "metadata": {
    "slideshow": {
     "slide_type": "slide"
    }
   },
   "source": [
    "## fancy Shit"
   ]
  },
  {
   "cell_type": "markdown",
   "id": "6a271a04",
   "metadata": {
    "slideshow": {
     "slide_type": "subslide"
    }
   },
   "source": [
    "### Escape Sequenzen"
   ]
  },
  {
   "cell_type": "markdown",
   "id": "a2bac3cd",
   "metadata": {
    "slideshow": {
     "slide_type": "fragment"
    }
   },
   "source": [
    "Die Shell kann auch farbigen Text darstellen"
   ]
  },
  {
   "cell_type": "markdown",
   "id": "e75d4451",
   "metadata": {
    "slideshow": {
     "slide_type": "fragment"
    }
   },
   "source": [
    "Syntax ist `\\e[[<Textattribut>;]<Vordergrund>;<Hintergrund>m<angezeigter Text>`\n",
    "oder \n",
    "\n",
    "`\\e[[<Textattribut>;]38;2;<R_FG>;<G_FG>;<B_FG>;<48;2;<R_BG>;<G_BG>;<B_BG>m<angezeigter Text>`"
   ]
  },
  {
   "cell_type": "markdown",
   "id": "fed19849",
   "metadata": {
    "slideshow": {
     "slide_type": "fragment"
    }
   },
   "source": [
    "#### Textfarben\n",
    "|  Color  | Foreground | Background |\n",
    "|  :---:  |   :---:    |   :---:    |\n",
    "|  black  | 30\t| 40 |\n",
    "|   red   | 31\t| 41 |\n",
    "| green\t  | 32\t| 42 |\n",
    "| yellow  | 33\t| 43 |\n",
    "| blue\t  | 34\t| 44 |\n",
    "| magenta | 35\t| 45 |\n",
    "|  cyan   | 36\t| 46 |\n",
    "| white\t  | 37\t| 47 |"
   ]
  },
  {
   "cell_type": "markdown",
   "id": "c236d55d",
   "metadata": {
    "slideshow": {
     "slide_type": "fragment"
    }
   },
   "source": [
    "#### Text Attributes\n",
    "|Sequence | What does it do? |\n",
    "|  :---:  |      :---:       |\n",
    "| `\\033[m`\t| Reset text formatting and colors.|\n",
    "| `\\033[1m`\t| Bold text.|\n",
    "| `\\033[2m`\t| Faint text.|\n",
    "| `\\033[3m`\t| Italic text.|\n",
    "| `\\033[4m`\t| Underline text.|\n",
    "| `\\033[5m`\t| Slow blink.|\n",
    "| `\\033[7m`\t| Swap foreground and background colors.|\n",
    "| `\\033[8m`\t| Hidden text.|\n",
    "| `\\033[9m`\t| Strike-through text.|\n"
   ]
  }
 ],
 "metadata": {
  "celltoolbar": "Slideshow",
  "kernelspec": {
   "display_name": "Python 3",
   "language": "python",
   "name": "python3"
  },
  "language_info": {
   "codemirror_mode": {
    "name": "ipython",
    "version": 3
   },
   "file_extension": ".py",
   "mimetype": "text/x-python",
   "name": "python",
   "nbconvert_exporter": "python",
   "pygments_lexer": "ipython3",
   "version": "3.9.7"
  }
 },
 "nbformat": 4,
 "nbformat_minor": 5
}
