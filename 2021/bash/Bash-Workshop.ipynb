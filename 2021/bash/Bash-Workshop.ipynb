{
 "cells": [
  {
   "cell_type": "markdown",
   "metadata": {
    "slideshow": {
     "slide_type": "slide"
    }
   },
   "source": [
    "\n",
    "\n",
    "# Bash-Workshop\n",
    "## 2021-10-14\n",
    "## Marcus Ganske - Fachschaft Informatik"
   ]
  },
  {
   "cell_type": "markdown",
   "metadata": {
    "slideshow": {
     "slide_type": "slide"
    }
   },
   "source": [
    "# Was wir machen"
   ]
  },
  {
   "cell_type": "markdown",
   "metadata": {
    "slideshow": {
     "slide_type": "fragment"
    }
   },
   "source": [
    "- Navigation\n",
    "- Datei anlegen/löschen/umbenennen\n",
    "- Dateiinhalt ausgeben\n",
    "- Ein-/Ausgabeumlenkung\n",
    "- Suchen, Bytes zählen, sortieren und ausschneiden\n",
    "- Zugriffsrechte\n",
    "- Hilfe bekommen\n",
    "- Archive\n",
    "- Prozesse\n",
    "- inode\n",
    "- Aliasing\n",
    "- Quoting"
   ]
  },
  {
   "cell_type": "markdown",
   "metadata": {
    "slideshow": {
     "slide_type": "slide"
    }
   },
   "source": [
    "# Was wir nicht machen"
   ]
  },
  {
   "cell_type": "markdown",
   "metadata": {
    "slideshow": {
     "slide_type": "fragment"
    }
   },
   "source": [
    "- Schleifen\n",
    "- Conditionals\n",
    "- Variablen\n",
    "- Bash-Skripting\n",
    "- alles andere was fancy ist"
   ]
  },
  {
   "cell_type": "markdown",
   "metadata": {
    "slideshow": {
     "slide_type": "subslide"
    }
   },
   "source": [
    "Das Wichtigste in unixartigen Systemen ist: alles ist eine Datei!"
   ]
  },
  {
   "cell_type": "markdown",
   "metadata": {
    "slideshow": {
     "slide_type": "slide"
    }
   },
   "source": [
    "## Navigation\n",
    "Wie ist das Dateisystem aufgebaut und wie komme ich von A nach B?"
   ]
  },
  {
   "cell_type": "markdown",
   "metadata": {
    "slideshow": {
     "slide_type": "fragment"
    }
   },
   "source": [
    "### Vorspiel: Pfade\n",
    "\n",
    "| absolut | relativ |\n",
    "| :---:   | :---:   |\n",
    "| vom Wurzelverzeichnis (root **/**) aus | vom aktuellen Verzeichnis aus |"
   ]
  },
  {
   "cell_type": "markdown",
   "metadata": {
    "slideshow": {
     "slide_type": "subslide"
    }
   },
   "source": [
    "- /      → Root /Wurzelverzeichnis\n",
    "- /bin   → Grundlegende ausführbare Dateien und Befehle\n",
    "- /boot  → Bootloader, statische Dateien\n",
    "- /dev   → Gerätedateien\n",
    "- /etc   → Systemkonfigurationsdateien\n",
    "- /home  → Benutzerverzeichnis: Eigene Dateien, Konfigurationen\n",
    "- /lib   → Kernel-Module und dynamische Bibliotheken\n",
    "- /media → Mountpoint für Datenträger\n",
    "- /opt   → Optionale / Eigene Softwarepakete\n",
    "- /tmp   → Temporäre Dateien\n",
    "- /var   → Variable Daten (z.B. Logdaten, Spool-Verzeichnisse)"
   ]
  },
  {
   "cell_type": "markdown",
   "metadata": {
    "slideshow": {
     "slide_type": "subslide"
    }
   },
   "source": [
    "Wo bin ich eigentlich?"
   ]
  },
  {
   "cell_type": "markdown",
   "metadata": {
    "slideshow": {
     "slide_type": "fragment"
    }
   },
   "source": [
    " - `$ pwd`\n",
    "     - \"**p**rint **w**orking **d**irectory\"\n",
    "     - gibt das aktuelle Verzeichnis als absoluten Pfad aus"
   ]
  },
  {
   "cell_type": "markdown",
   "metadata": {
    "slideshow": {
     "slide_type": "subslide"
    }
   },
   "source": [
    "Hilfe?"
   ]
  },
  {
   "cell_type": "markdown",
   "metadata": {
    "slideshow": {
     "slide_type": "subslide"
    }
   },
   "source": [
    "#### Hilfe\n",
    "- `$ <Befehl> -h` oder `<Befehl> --help` gibt meistens eine Übersicht über die Verwendung und Optionen an\n",
    "- Ausführlicher sind die Manpages\n",
    "    - **man**ual **pages**\n",
    "    - `man <Befehl>`\n",
    "    - von den Standardprogrammen hat so gut wie jedes eine Manpage"
   ]
  },
  {
   "cell_type": "markdown",
   "metadata": {
    "slideshow": {
     "slide_type": "subslide"
    }
   },
   "source": [
    "Ich weiß jetzt, wo ich bin, aber was gibt es hier?"
   ]
  },
  {
   "cell_type": "markdown",
   "metadata": {
    "slideshow": {
     "slide_type": "fragment"
    }
   },
   "source": [
    "- `$ ls [Optionen] [Datei]`\n",
    "    - **l**i**s**t\n",
    "    - gibt den Inhalt des angegebenen Verzeichnisses aus\n",
    "    - ist kein Verzeichnis angegeben, wird das aktuelle Verzeichnis gewählt\n",
    "    - nützliche Optionen:\n",
    "        - `-l`: ausführliche Ausgabe\n",
    "        - `-a`: zeigt auch versteckte Dateien an\n",
    "        - `-h`: \"human readable\" - Zeigt Dateigrößen gerundet mit Suffix an"
   ]
  },
  {
   "cell_type": "markdown",
   "metadata": {
    "slideshow": {
     "slide_type": "subslide"
    }
   },
   "source": [
    "und wie komme ich jetzt in die Verzeichnisse, die ich so sehe?"
   ]
  },
  {
   "cell_type": "markdown",
   "metadata": {
    "slideshow": {
     "slide_type": "fragment"
    }
   },
   "source": [
    "- `$ cd <Verzeichnis>`\n",
    "    - \"**c**hange **d**irectory\"\n",
    "    - wechselt in das angegebene Verzeichnis (duh!)\n",
    "    - ohne Angabe eines Verzeichnisses wird in das eigene Homeverzeichnis gewechselt\n",
    "    - `$ cd ..` wechselt ins Oberverzeichnis"
   ]
  },
  {
   "cell_type": "markdown",
   "metadata": {
    "slideshow": {
     "slide_type": "slide"
    }
   },
   "source": [
    "## Datei anlegen/löschen/umbenennen und so Zeugs\n",
    "\n",
    "Was kann ich denn hier so machen?"
   ]
  },
  {
   "cell_type": "markdown",
   "metadata": {
    "slideshow": {
     "slide_type": "subslide"
    }
   },
   "source": [
    "Dann mach ich mal neues Zeug, wie geht das?"
   ]
  },
  {
   "cell_type": "markdown",
   "metadata": {
    "slideshow": {
     "slide_type": "fragment"
    }
   },
   "source": [
    "- `$ mkdir [Optionen] <Verzeichnisname>`\n",
    "    - \"**m**a**k**e **dir**ectory\"\n",
    "    - erstellt ein neues Verzeichnis (duh!)\n",
    "    - nützliche Optionen:\n",
    "        - `-p`: \"parent\" - erzeugt ganze Vereichnisstruktur"
   ]
  },
  {
   "cell_type": "markdown",
   "metadata": {
    "slideshow": {
     "slide_type": "-"
    }
   },
   "source": [
    "- `$ touch [Optionen] [Datei]`\n",
    "    - ändert den Zugriffszeitstempel von Dateien\n",
    "    - Ist die Datei nicht vorhanden, wird sie als leere Datei angelegt"
   ]
  },
  {
   "cell_type": "markdown",
   "metadata": {
    "slideshow": {
     "slide_type": "subslide"
    }
   },
   "source": [
    "Kann ich eine Datei kopieren?"
   ]
  },
  {
   "cell_type": "markdown",
   "metadata": {
    "slideshow": {
     "slide_type": "fragment"
    }
   },
   "source": [
    "- `$ cp [Optionen] <Quelldatei> <Zieldatei>`\n",
    "    - **c**o**p**y\n",
    "    - nützliche Optionen:\n",
    "        - `-r`: \"recursive\" - kopiert ein ganzes Verzeichnis"
   ]
  },
  {
   "cell_type": "markdown",
   "metadata": {
    "slideshow": {
     "slide_type": "fragment"
    }
   },
   "source": [
    "Ich hab' mich beim Dateinamen verschrieben, wie kann ich das umbenennen?"
   ]
  },
  {
   "cell_type": "markdown",
   "metadata": {
    "slideshow": {
     "slide_type": "fragment"
    }
   },
   "source": [
    "- `$ mv [Optionen] <Quelldatei> <Zieldatei>`\n",
    "    - **m**o**v**e\n",
    "    - \"Wir nehmen die Datei und schieben sie woanders hin\""
   ]
  },
  {
   "cell_type": "markdown",
   "metadata": {
    "slideshow": {
     "slide_type": "subslide"
    }
   },
   "source": [
    "Ich bin grade auf einem Zerstörungstrip, wie kann ich Dinge löschen?"
   ]
  },
  {
   "cell_type": "markdown",
   "metadata": {
    "slideshow": {
     "slide_type": "fragment"
    }
   },
   "source": [
    "- `$ rm [Optionen] <Dateiname>`\n",
    "    - **r**e**m**ove\n",
    "    - \"File begone!\"\n",
    "    - nützliche Optionen:\n",
    "        - `-r`: \"recursive\" - löscht ein Verzeichnis\n",
    "        - `-f`: \"force\" - löscht das Ziel ohne Nachzufragen\n",
    "      "
   ]
  },
  {
   "cell_type": "markdown",
   "metadata": {
    "slideshow": {
     "slide_type": "fragment"
    }
   },
   "source": [
    "![](warning.png)\n",
    "`-f` ist gefährlich! Wir sind hier nicht im Microsoft-Kindergarten wo 174516x nachgefragt wird, ob ihr die Datei wirklich löschen wollt. Sobald ihr `<Enter>` drückt, ist die Datei weg. Bemerkt ihr dann, dass es ein Fehler war, ist das Pech. So lässt sich super schnell das System unbrauchbar zerstören \n",
    "![](warning.png)"
   ]
  },
  {
   "cell_type": "markdown",
   "metadata": {
    "slideshow": {
     "slide_type": "slide"
    }
   },
   "source": [
    "## Dateiinhalt ausgeben\n",
    "\n",
    "Was steht denn in den Dateien drin?"
   ]
  },
  {
   "cell_type": "markdown",
   "metadata": {
    "slideshow": {
     "slide_type": "subslide"
    }
   },
   "source": [
    "schlecht, aber meist genutzt:\n",
    "- `$ cat [Optionen] <Datei>`\n",
    "    - con**cat**enate\n",
    "    - gibt den Inhalt einer Datei auf dem Bildschirm aus"
   ]
  },
  {
   "cell_type": "markdown",
   "metadata": {
    "slideshow": {
     "slide_type": "fragment"
    }
   },
   "source": [
    "- Problem: Die Bildschirmausgabe ist nicht gepuffert. Wenn überhaupt, kann nicht mehr als x Zeilen zurückgescrollt werden"
   ]
  },
  {
   "cell_type": "markdown",
   "metadata": {
    "slideshow": {
     "slide_type": "fragment"
    }
   },
   "source": [
    "besser:\n",
    "- `$ less [Optionen] <Datei>`\n",
    "    - ist gepuffert, wir können die gesamte Datei vor- und zurückscrollen, wie wir wollen"
   ]
  },
  {
   "cell_type": "markdown",
   "metadata": {
    "slideshow": {
     "slide_type": "subslide"
    }
   },
   "source": [
    "Mich interessieren nur die ersten/letzten n Zeilen, gibt es da was?"
   ]
  },
  {
   "cell_type": "markdown",
   "metadata": {
    "slideshow": {
     "slide_type": "fragment"
    }
   },
   "source": [
    "- `head/tail [Optionen] <Dateiname>`\n",
    "    - gibt ohne Option die ersten/letzten 10 Zeilen aus\n",
    "    - nützliche Optionen:\n",
    "        -`-n <Zahl>` oder kurz `-<Zahl>`: gibt die ersten/letzten \\<Zahl> Zeilen an\n",
    "        - nur `tail`: `-f` \"follow\" - folgt der Datei und gibt neue letzte Zeilen aus, wenn etwas dazu kommt"
   ]
  },
  {
   "cell_type": "markdown",
   "metadata": {
    "slideshow": {
     "slide_type": "slide"
    }
   },
   "source": [
    "## Übung\n",
    "\n",
    "### Aufgabe 1:\n",
    "- schaut, in welchem Verzeichnis ihr gelandet seid, nachdem ihr euer Terminal geöffnet habt\n",
    "- Wechselt in euer Homeverzeichnis\n",
    "- lasst euch den Inhalt des Homeverzeichnisses in den verschiedenen Modi kurze/ausführliche Ausgabe bzw. mit und ohne \"hidden files\" anzeigen.\n",
    "\n",
    "### Aufgabe 2:\n",
    "- erstellt in eurem Homeverzeichnis die Verzeichnisstruktur ~/Workshop/test/test1 , ~/Workshop/test/test2\n",
    "- legt im Ordner ~/Workshop/test/test1 die Dateien 1, 2 und 3 an.\n",
    "- kopiert den Inhalt von ~/Workshop/test/test1 nach ~/Workshop/test/test2\n",
    "- löscht die Testordner"
   ]
  },
  {
   "cell_type": "markdown",
   "metadata": {},
   "source": [
    "## Musterlösung\n",
    "\n",
    "### Aufgabe 1:\n",
    "- `pwd`\n",
    "- `cd ~` funktioniert immer, `cd` sollte aber auch funktionieren\n",
    "- kurze Ausgabe `ls`, ausführliche Ausgabe `ls -l`, mit hidden files `ls -a` mit den Links für . und .. oder `ls -A` ohne die beiden Links\n",
    "\n",
    "### Aufgabe 2:\n",
    "Befehle sind vom Homeverzeichnis aus, wenn ihr wo anders seid, müsst ihr den relativen Pfad anpassen\n",
    "- `mkdir -p Workshop/test/test{1,2}`\n",
    "- `touch Workshop/test/test1/{1,2,3}`\n",
    "- `cp -r Workshop/test/test1 Workshop/test/test2`\n",
    "- `rm -r Workshop/test/`"
   ]
  },
  {
   "cell_type": "markdown",
   "metadata": {
    "slideshow": {
     "slide_type": "slide"
    }
   },
   "source": [
    "## Zugriffsrechte"
   ]
  },
  {
   "cell_type": "markdown",
   "metadata": {
    "slideshow": {
     "slide_type": "subslide"
    }
   },
   "source": [
    "bei `ls -l` wird so ein -rwxrwxrwx angezeigt\n",
    "\n",
    "- das sind die Zugriffsrechte für die Datei.\n",
    "- 3x für owner / group / all other\n",
    "- die Rechte sind **r**ead, **w**rite, e**x**ecute"
   ]
  },
  {
   "cell_type": "markdown",
   "metadata": {
    "slideshow": {
     "slide_type": "fragment"
    }
   },
   "source": [
    "- für Verzeichnisse haben die Zugriffsrechte eine besondere Bedeutung:\n",
    "    - r: Inhalt anzeigen\n",
    "    - w: Dateien anlegen und löschen\n",
    "    - x: in das Verzeichnis wechseln"
   ]
  },
  {
   "cell_type": "markdown",
   "metadata": {
    "slideshow": {
     "slide_type": "subslide"
    }
   },
   "source": [
    "ich will, dass die Datei mir gehört!"
   ]
  },
  {
   "cell_type": "markdown",
   "metadata": {
    "slideshow": {
     "slide_type": "fragment"
    }
   },
   "source": [
    "- `$ chown [Optionen] [neuer Besitzer] <Dateiname>`\n",
    "    - **ch**ange **own**er\n",
    "    - ändert den Besitzer der Datei (duh!)\n",
    "    - nützliche Optionen:\n",
    "        - `-R`: \"recursive\" - für Ordner"
   ]
  },
  {
   "cell_type": "markdown",
   "metadata": {
    "slideshow": {
     "slide_type": "subslide"
    }
   },
   "source": [
    "ich will, dass niemand außer mir meine super geheime Datei lesen kann, wie schaffe ich das?"
   ]
  },
  {
   "cell_type": "markdown",
   "metadata": {
    "slideshow": {
     "slide_type": "fragment"
    }
   },
   "source": [
    "- `$chmod [Optionen] <Berechtigung> <Dateiname>`\n",
    "    - **ch**ange file **mod**e bits\n",
    "    - Ändert die Zugriffsrechte (duh!)\n",
    "    - nützliche Optionen:\n",
    "        - `-R`: \"recursive\" - für Ordner und deren Inhalt\n",
    "    - Berechtigung wird mit dem Buchstabenkürzel(r,w,x) und einem Vorzeichen(+,-) angegeben; Bsp: `chmod +x foo.txt`"
   ]
  },
  {
   "cell_type": "markdown",
   "metadata": {
    "slideshow": {
     "slide_type": "fragment"
    }
   },
   "source": [
    " Alternativ kann man auch eine kryptisch anmutende Zahl angeben, z.B. `chmod 744 foo.txt`\n",
    " \n",
    " Das ist ein Oktalcode, wir können mit 3 Bit von 0 bis 7 zählen\n",
    " \n",
    " ```4 2 1\n",
    "r w x```"
   ]
  },
  {
   "cell_type": "markdown",
   "metadata": {
    "slideshow": {
     "slide_type": "subslide"
    }
   },
   "source": [
    "Kann ich in Verzeichnissen, die nicht mir gehören was machen?"
   ]
  },
  {
   "cell_type": "markdown",
   "metadata": {
    "slideshow": {
     "slide_type": "fragment"
    }
   },
   "source": [
    "- `$ sudo [Optionen] <Rest vom Befehl>`\n",
    "    - **s**uper**u**ser **do** oder **s**ubstitue **u**ser **do**\n",
    "    - kann Befehle als anderer Benutzer ausführen\n",
    "    - meist für administrative Zwecke\n",
    "    - es gibt eine 'sudoers'-Gruppe, in der alle Benutzer stehen, die `sudo` verwenden dürfen"
   ]
  },
  {
   "cell_type": "markdown",
   "metadata": {
    "slideshow": {
     "slide_type": "fragment"
    }
   },
   "source": [
    "![sandwich.png](sandwich.png)"
   ]
  },
  {
   "cell_type": "markdown",
   "metadata": {
    "slideshow": {
     "slide_type": "slide"
    }
   },
   "source": [
    "## Inodes"
   ]
  },
  {
   "cell_type": "markdown",
   "metadata": {
    "slideshow": {
     "slide_type": "fragment"
    }
   },
   "source": [
    "speichern Metainformationen von Dateien"
   ]
  },
  {
   "cell_type": "markdown",
   "metadata": {
    "slideshow": {
     "slide_type": "fragment"
    }
   },
   "source": [
    "eine dieser Metainformationen ist der Linkcount.\n",
    "\n",
    "Was ist ein Link? Kommt auf die Art des Links an."
   ]
  },
  {
   "cell_type": "markdown",
   "metadata": {
    "slideshow": {
     "slide_type": "fragment"
    }
   },
   "source": [
    "Es gibt **Hardlinks** und **Softlinks** bzw symbolische Links oder Symlinks.\n",
    "\n",
    "| Hardlinks | Softlinks |\n",
    "| :---:     | :---:     |\n",
    "|erhöhen Inode-counter | erhöhen Inode-counter **nicht** |\n",
    "| ist eine Referenz auf eine Inode | ist eine Referenz auf einen Pfad |\n",
    "| löschen der Basisdatei ist egal, solange der Inode-counter > 1 ist | löschen der Basisdatei führt dazu, dass der Link ins Leere zeigt |"
   ]
  },
  {
   "cell_type": "markdown",
   "metadata": {
    "slideshow": {
     "slide_type": "subslide"
    }
   },
   "source": [
    "und was mach ich jetzt damit?"
   ]
  },
  {
   "cell_type": "markdown",
   "metadata": {
    "slideshow": {
     "slide_type": "fragment"
    }
   },
   "source": [
    "meistens Pfade abkürzen"
   ]
  },
  {
   "cell_type": "markdown",
   "metadata": {
    "slideshow": {
     "slide_type": "fragment"
    }
   },
   "source": [
    "- `ln [Optionen] <Ziel> <Linkname>`\n",
    "    - **l**i**n**k\n",
    "    - erstellt einen Hardink zur Zieldatei\n",
    "    - nützliche Optionen:\n",
    "        - `-s`: \"symbolic\" - macht einen Softlink anstatt eines Hardlinks"
   ]
  },
  {
   "cell_type": "markdown",
   "metadata": {
    "slideshow": {
     "slide_type": "slide"
    }
   },
   "source": [
    "## Exkurs: Wildcards und Expansions"
   ]
  },
  {
   "cell_type": "markdown",
   "metadata": {
    "slideshow": {
     "slide_type": "slide"
    }
   },
   "source": [
    "### Wildcards"
   ]
  },
  {
   "cell_type": "markdown",
   "metadata": {
    "slideshow": {
     "slide_type": "subslide"
    }
   },
   "source": [
    "- es gibt 3 Wildcards, die hauptsächlich benutzt werden:\n",
    "    - *\n",
    "    - ?\n",
    "    -[]"
   ]
  },
  {
   "cell_type": "markdown",
   "metadata": {
    "slideshow": {
     "slide_type": "subslide"
    }
   },
   "source": [
    "`*` sucht nach beliebigen Zeichen beliebig oft. Es gibt mehrere Möglichkeiten, `*` zu verwenden.\n",
    "1. nach einem bestimmten Dateinamen suchen, bsp. `ls -l s*` gibt alle Dateien aus, die im aktuellen Verzeichnis mit s beginnen\n",
    "2. nach einer bestimmen Endung suchen, bsp. `ls -l *.png` gibt alle png-Bilder im aktuellen Verzeichnis aus\n",
    "3. nach einem bestimmten Schnipsel im Dateinamen suchen, bsp. `ls -l *img*` gibt alle Dateien aus, bei denen irgendwo im Dateinamen der String \"img\" vorkommt."
   ]
  },
  {
   "cell_type": "markdown",
   "metadata": {
    "slideshow": {
     "slide_type": "subslide"
    }
   },
   "source": [
    "`?` sucht nach beliebigen Zeichen, und zwar genau einmal pro `?`. Auch hier wieder die Möglichkeiten, `?` zu verwenden.\n",
    "1. ich weiß genau, wie lang der Dateiname ist. Bsp. `ls ??pic.jpg` gibt alle jpg-Bilder aus, bei denen 2 beliebige Zeichen kommen und dann der String \"pic.jpg\"\n",
    "2. ich weiß, wie die Datei heißt und wie viele Zeichen die Endung hat. Bsp. `ls mypic.???` zeigt mir alle Dateien an, die \"mypic\" heißen und eine Endung mit 3 Zeichen haben"
   ]
  },
  {
   "cell_type": "markdown",
   "metadata": {
    "slideshow": {
     "slide_type": "subslide"
    }
   },
   "source": [
    " - [...] geben eine Reihe oder Gruppe von Zeichen an\n",
    "        - \"[xyz]\" matcht auf alles, was mit x, y, oder z anfängt\n",
    "        - \"[c-n]\" matcht auf alles, was in der Reichweite c bis n anfängt\n",
    "        - \"[B-Pk-y]\" matcht auf alles, was in der Reichweite B is P und k bis y anfängt\n",
    "        - \"[a-z0-9]\" matcht einen beliebigen Kleinbuchstaben oder eine Ziffer\n",
    "        - \"[^b-d]\" matcht auf alles, was **nicht** mit b, c oder d anfängt"
   ]
  },
  {
   "cell_type": "markdown",
   "metadata": {
    "slideshow": {
     "slide_type": "slide"
    }
   },
   "source": [
    "### Expansion"
   ]
  },
  {
   "cell_type": "markdown",
   "metadata": {
    "slideshow": {
     "slide_type": "subslide"
    }
   },
   "source": [
    "{} kann für Parameter expansion verwendet werden, wenn Mensch faul ist"
   ]
  },
  {
   "cell_type": "markdown",
   "metadata": {
    "slideshow": {
     "slide_type": "fragment"
    }
   },
   "source": [
    "- Bsp Aufgabe 2: `mkdir -p Workshop/test/test{1,2}` geht schneller\n",
    "    - wird von der shell auf `mkdir -p Workshop/test/test1 mkdir -p Workshop/test/test2` erweitert\n",
    "- wenn LaTeX kompiliert wird, wird viel Clutter angelegt\n",
    "    - `rm Vortrag.{aux,log,out,toc}` wird von der Shell auf `rm Vortrag.aux Vortrag.log Vortrag.out Vortrag.toc` erweitert"
   ]
  },
  {
   "cell_type": "markdown",
   "metadata": {
    "slideshow": {
     "slide_type": "slide"
    }
   },
   "source": [
    "## Übung\n",
    "\n",
    "### Aufgabe 3\n",
    "\n",
    "- Erstellt in eurem Workshop-Verzeichnis ein Unterverzeichnis Programme. Setzt die Zugriffsrechte auf dieses Verzeichnis so, dass nur ihr als Besitzer dort Lese-, Schreib- und Ausführungsrechte habt.\n",
    "- Erzeugt in eurem Workshop-Verzeichnis einen Verweis (symbolischen Link) mit dem Namen \"bin\", der auf das Systemverzeichnis /usr/bin verweist.\n",
    "- Kopiert aus dem Systemverzeichnis /usr/bin alle Programme, die mit dem Buchstaben l oder z beginnen, in das neu angelegte Verzeichnis hinein. Ermittelt nun die Anzahl der Dateien im Verzeichnis Programme.\n",
    "\n",
    "### Aufgabe 4\n",
    "- Legt das Verzeichnis abc und darin die Datei x an. Legt einen symlink „sym“ und einen hardlink „hard“ auf x an.\n",
    "- Schreibt einen beliebigen kurzen Text in die Datei x. Löscht x und gebt den Inhalt von hard und sym aus."
   ]
  },
  {
   "cell_type": "markdown",
   "metadata": {},
   "source": [
    "## Musterlösung\n",
    "\n",
    "### Aufgabe 3\n",
    "- `mkdir -p Workshop/Programme`\n",
    "    - `chmod 700 Workshop/Programme`\n",
    "- `ln -s /usr/bin Workshop/bin`\n",
    "- `cp usr/bin/[lz]* Workshop/Programme/` oder `cp Workshop/bin/[lz]* Workshop/Programme/`\n",
    "    - `ls -lA Workshop/Programme | wc -l`\n",
    "    \n",
    "### Aufgabe 4\n",
    "- `mkdir Workshop/abc`\n",
    "    -`touch Workshop/abc/x`\n",
    "    - `ln -s Workshop/abc/x Workshop/sym`\n",
    "    - `ln Workshop/abc/x Workshop/hard`\n",
    "- `echo \"Hello World\" >> Workshop/abc/x`\n",
    "    - `rm Workshop/abc/x`\n",
    "    - `cat Workshop/abc/hard`\n",
    "    - `cat Workshop/abc/sym`"
   ]
  },
  {
   "cell_type": "markdown",
   "metadata": {
    "slideshow": {
     "slide_type": "slide"
    }
   },
   "source": [
    "## Ein- und Ausgabeumlenkung"
   ]
  },
  {
   "cell_type": "markdown",
   "metadata": {
    "slideshow": {
     "slide_type": "subslide"
    }
   },
   "source": [
    "### Datenströme\n",
    "\n",
    "In Unixartigen OS gibt es 3 Datenströme, die auch durchnummeriert sind:\n",
    "- 0 - Standardeingabe `stdin` (normalerweise Tastatur)\n",
    "- 1 - Standardausgabe `stdout` (normalerweise der Bildschirm)\n",
    "- 2 - Standardfehlerausgabe `stderr` (normalerweise auch Bildschirm)"
   ]
  },
  {
   "cell_type": "markdown",
   "metadata": {
    "slideshow": {
     "slide_type": "subslide"
    }
   },
   "source": [
    "### Datenstromumleitungen\n",
    "\n",
    "- Ausgaben können mit `>` umgeleitet weden, z.B. in eine Datei ( `echo foo > bar` oder `echo foo 1> bar` leitet stdout in bar um) \n",
    "    - oder in einen anderen Datenstrom (`cat foo 2>&1` leitet stderr dahin um wo stdout jetzt grade hinzeigt). \n",
    "- Die Eingabe kann mit `<` umgeleitet werden, z.B. der Inhalt einer Datei in ein Programm (`cat < bar`).\n",
    "- Mit `>>` kann an eine Datei angehängt werden, anstatt sie wie bei `>` zu überschreiben."
   ]
  },
  {
   "cell_type": "markdown",
   "metadata": {
    "slideshow": {
     "slide_type": "fragment"
    }
   },
   "source": [
    "- Die Pipe `|` erhält eine Ausgabe eines Programms und leitet diese als Eingabe für ein anderes Programm weiter.\n",
    "    - Beispiel von meinem lokalen System: `ps ax | grep neomutt`\n",
    "- Die Pipe kann auch durchaus öfter angewendet werden, also `Programm1 | Programm2 | Programm3 (...)`."
   ]
  },
  {
   "cell_type": "markdown",
   "metadata": {
    "slideshow": {
     "slide_type": "slide"
    }
   },
   "source": [
    "## suchen, sortieren und ausschneiden"
   ]
  },
  {
   "cell_type": "markdown",
   "metadata": {
    "slideshow": {
     "slide_type": "subslide"
    }
   },
   "source": [
    "Ich suche Datei xy, wie finde ich die?"
   ]
  },
  {
   "cell_type": "markdown",
   "metadata": {
    "slideshow": {
     "slide_type": "fragment"
    }
   },
   "source": [
    "- `$ find [Optionen] <Startpfad> <Ausdruck>`\n",
    "    - wir suchen nicht, wir finden\n",
    "    - find ist sehr mächtig, Manpage anschauen"
   ]
  },
  {
   "cell_type": "markdown",
   "metadata": {
    "slideshow": {
     "slide_type": "fragment"
    }
   },
   "source": [
    "Ich suche einen bestimmten Text, aber weiß nicht, in welcher Datei oder an welcher Stelle er steht. Muss ich jetzt jede Datei öffnen?"
   ]
  },
  {
   "cell_type": "markdown",
   "metadata": {
    "slideshow": {
     "slide_type": "fragment"
    }
   },
   "source": [
    "- `$ grep [Optionen] <Muster> <Dateinamen>`\n",
    "    - zeigt Zeilen an, die auf das Muster matchen\n",
    "    - Manpage ansehen\n",
    "    - wird oft zusammen mit find verwendet -> Pipe"
   ]
  },
  {
   "cell_type": "markdown",
   "metadata": {
    "slideshow": {
     "slide_type": "subslide"
    }
   },
   "source": [
    "ich brauche nur einen Teil einer Datei, muss ich das von Hand abtippen?"
   ]
  },
  {
   "cell_type": "markdown",
   "metadata": {
    "slideshow": {
     "slide_type": "fragment"
    }
   },
   "source": [
    "- `$ cut <Optionen> [Dateinamen]`\n",
    "    - Schneidet aus Zeilen aus\n",
    "    - Ohne Datei oder wenn die Datei `-` ist, wird von `stdin` gelesen\n",
    "    - nützliche Optionen:\n",
    "        `-d, --delimiter=DELIM` nimmt DELIMITER anstatt TAB zur Feldbegrenzung"
   ]
  },
  {
   "cell_type": "markdown",
   "metadata": {
    "slideshow": {
     "slide_type": "fragment"
    }
   },
   "source": [
    "die Daten sind ja völlig durcheinander, kann ich die sortieren lassen?"
   ]
  },
  {
   "cell_type": "markdown",
   "metadata": {
    "slideshow": {
     "slide_type": "fragment"
    }
   },
   "source": [
    "- `$ sort[Optionen] <Dateinamen>`\n",
    "    - sortiert den Inhalt aller angegebenen Dateien und gibt ihn auf `stdout` aus\n",
    "    - Ohne Datei oder wenn die Datei `-` ist, wird von `stdin` gelesen\n",
    "    - nützliche Optionen:\n",
    "        - `-u`: \"unique\" - gibt mehrfach vorkommende Zeilen nur einmal aus"
   ]
  },
  {
   "cell_type": "markdown",
   "metadata": {
    "slideshow": {
     "slide_type": "subslide"
    }
   },
   "source": [
    "Ich muss mindestens x Wörter für eine Übung schreiben, muss ich das von Hand zählen?"
   ]
  },
  {
   "cell_type": "markdown",
   "metadata": {
    "slideshow": {
     "slide_type": "fragment"
    }
   },
   "source": [
    "- `$ wc [Optionen] <Dateiname>`\n",
    "    - **w**ord **c**ount\n",
    "    - zählt Zeilen, Wörter und Zeichen in Dateien\n",
    "    - nützliche Optionen:\n",
    "        - `-c`: zählt Bytes\n",
    "        - `-m`: zählt nur Zeichen\n",
    "        - `-l`: \"lines\" - zählt nur Zeilen\n",
    "        - `-w`: \"words\" - zählt nur Wörter"
   ]
  },
  {
   "cell_type": "markdown",
   "metadata": {
    "slideshow": {
     "slide_type": "slide"
    }
   },
   "source": [
    "## Übung\n",
    "\n",
    "### Aufgabe 5\n",
    "\n",
    "- Generiert durch eine geeignete E/A -Umleitung in Ihrem Workshop Verzeichnis eine Datei namens index, welche das Inhaltsverzeichnis des Verzeichnisses Programme (aus Aufg. 3) enthält. Erzeugt analog eine weitere Datei index2, welche das komplette Inhaltsverzeichnis von /usr/bin enthält.\n",
    "- Die Inhaltsverzeichnisse index und index2 sollen jeweils nur einen Programmnamen pro Zeile enthalten.\n",
    "- Hängt den Inhalt der Datei index2 an die Datei index an. Sortiert die Datei index nach Programmnamen, wobei ihr eine neue Datei index.sortiert erzeugt, die keine Duplikate mehr enthält. \n",
    "- Sucht in der Datei index2 nach allen Zeilen, die den Teilstring \"ch\" enthalten.\n",
    "\n",
    "- Gebt aus der /etc/passwd nur den jeweils zweiten und dritten Buchstaben der Home-Verzeichnisse aus, sortiert sie alphabetisch und speichert die ersten 5 Zeilen des Ergebnisses in eine Datei \"top5\""
   ]
  },
  {
   "cell_type": "markdown",
   "metadata": {},
   "source": [
    "## Musterlösung\n",
    "\n",
    "### Aufgabe 5\n",
    "\n",
    "- `ls -1 Workshop/Programme > Workshop/index` das in der Option ist eine Eins\n",
    "    - `ls -1 /usr/bin > Workshop/index2` das in der Option ist eine Eins\n",
    "- `cat Workshop/index2 >> Workshop/index`\n",
    "- `sort -u Workshop/index > Workshop/index.sortiert`\n",
    "- `grep \"ch\" Workshop/index.sortiert`\n",
    "- `grep \"/home\" /etc/passwd | cut -d: -f6 | cut -d/ -f3 | cut -b2-3 > Workshop/top5`"
   ]
  },
  {
   "cell_type": "code",
   "execution_count": null,
   "metadata": {},
   "outputs": [],
   "source": []
  }
 ],
 "metadata": {
  "celltoolbar": "Slideshow",
  "kernelspec": {
   "display_name": "Python 3",
   "language": "python",
   "name": "python3"
  },
  "language_info": {
   "codemirror_mode": {
    "name": "ipython",
    "version": 3
   },
   "file_extension": ".py",
   "mimetype": "text/x-python",
   "name": "python",
   "nbconvert_exporter": "python",
   "pygments_lexer": "ipython3",
   "version": "3.9.7"
  }
 },
 "nbformat": 4,
 "nbformat_minor": 4
}
